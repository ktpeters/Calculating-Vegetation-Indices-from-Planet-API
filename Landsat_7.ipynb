{
  "nbformat": 4,
  "nbformat_minor": 0,
  "metadata": {
    "colab": {
      "provenance": [],
      "gpuType": "T4",
      "authorship_tag": "ABX9TyNohhPxLHeylzFFPx5Ir71S",
      "include_colab_link": true
    },
    "kernelspec": {
      "name": "python3",
      "display_name": "Python 3"
    },
    "language_info": {
      "name": "python"
    },
    "accelerator": "GPU"
  },
  "cells": [
    {
      "cell_type": "markdown",
      "metadata": {
        "id": "view-in-github",
        "colab_type": "text"
      },
      "source": [
        "<a href=\"https://colab.research.google.com/github/ktpeters/Calculating-Vegetation-Indices-from-Planet-API/blob/main/Landsat_7.ipynb\" target=\"_parent\"><img src=\"https://colab.research.google.com/assets/colab-badge.svg\" alt=\"Open In Colab\"/></a>"
      ]
    },
    {
      "cell_type": "code",
      "execution_count": null,
      "metadata": {
        "id": "FX3OuCv5HjbZ"
      },
      "outputs": [],
      "source": []
    },
    {
      "cell_type": "code",
      "execution_count": null,
      "metadata": {
        "colab": {
          "base_uri": "https://localhost:8080/"
        },
        "id": "2cbc3033-3841-4f54-8630-e2fc7cd80a54",
        "outputId": "b0300954-369c-4838-8271-8e30163eaf33"
      },
      "outputs": [
        {
          "output_type": "stream",
          "name": "stdout",
          "text": [
            "Requirement already satisfied: earthengine-api in /usr/local/lib/python3.10/dist-packages (1.0.0)\n",
            "Requirement already satisfied: google-cloud-storage in /usr/local/lib/python3.10/dist-packages (from earthengine-api) (2.8.0)\n",
            "Requirement already satisfied: google-api-python-client>=1.12.1 in /usr/local/lib/python3.10/dist-packages (from earthengine-api) (2.137.0)\n",
            "Requirement already satisfied: google-auth>=1.4.1 in /usr/local/lib/python3.10/dist-packages (from earthengine-api) (2.27.0)\n",
            "Requirement already satisfied: google-auth-httplib2>=0.0.3 in /usr/local/lib/python3.10/dist-packages (from earthengine-api) (0.2.0)\n",
            "Requirement already satisfied: httplib2<1dev,>=0.9.2 in /usr/local/lib/python3.10/dist-packages (from earthengine-api) (0.22.0)\n",
            "Requirement already satisfied: requests in /usr/local/lib/python3.10/dist-packages (from earthengine-api) (2.32.3)\n",
            "Requirement already satisfied: google-api-core!=2.0.*,!=2.1.*,!=2.2.*,!=2.3.0,<3.0.0.dev0,>=1.31.5 in /usr/local/lib/python3.10/dist-packages (from google-api-python-client>=1.12.1->earthengine-api) (2.19.2)\n",
            "Requirement already satisfied: uritemplate<5,>=3.0.1 in /usr/local/lib/python3.10/dist-packages (from google-api-python-client>=1.12.1->earthengine-api) (4.1.1)\n",
            "Requirement already satisfied: cachetools<6.0,>=2.0.0 in /usr/local/lib/python3.10/dist-packages (from google-auth>=1.4.1->earthengine-api) (5.5.0)\n",
            "Requirement already satisfied: pyasn1-modules>=0.2.1 in /usr/local/lib/python3.10/dist-packages (from google-auth>=1.4.1->earthengine-api) (0.4.1)\n",
            "Requirement already satisfied: rsa<5,>=3.1.4 in /usr/local/lib/python3.10/dist-packages (from google-auth>=1.4.1->earthengine-api) (4.9)\n",
            "Requirement already satisfied: pyparsing!=3.0.0,!=3.0.1,!=3.0.2,!=3.0.3,<4,>=2.4.2 in /usr/local/lib/python3.10/dist-packages (from httplib2<1dev,>=0.9.2->earthengine-api) (3.1.4)\n",
            "Requirement already satisfied: google-cloud-core<3.0dev,>=2.3.0 in /usr/local/lib/python3.10/dist-packages (from google-cloud-storage->earthengine-api) (2.4.1)\n",
            "Requirement already satisfied: google-resumable-media>=2.3.2 in /usr/local/lib/python3.10/dist-packages (from google-cloud-storage->earthengine-api) (2.7.2)\n",
            "Requirement already satisfied: charset-normalizer<4,>=2 in /usr/local/lib/python3.10/dist-packages (from requests->earthengine-api) (3.3.2)\n",
            "Requirement already satisfied: idna<4,>=2.5 in /usr/local/lib/python3.10/dist-packages (from requests->earthengine-api) (3.10)\n",
            "Requirement already satisfied: urllib3<3,>=1.21.1 in /usr/local/lib/python3.10/dist-packages (from requests->earthengine-api) (2.0.7)\n",
            "Requirement already satisfied: certifi>=2017.4.17 in /usr/local/lib/python3.10/dist-packages (from requests->earthengine-api) (2024.8.30)\n",
            "Requirement already satisfied: googleapis-common-protos<2.0.dev0,>=1.56.2 in /usr/local/lib/python3.10/dist-packages (from google-api-core!=2.0.*,!=2.1.*,!=2.2.*,!=2.3.0,<3.0.0.dev0,>=1.31.5->google-api-python-client>=1.12.1->earthengine-api) (1.65.0)\n",
            "Requirement already satisfied: protobuf!=3.20.0,!=3.20.1,!=4.21.0,!=4.21.1,!=4.21.2,!=4.21.3,!=4.21.4,!=4.21.5,<6.0.0.dev0,>=3.19.5 in /usr/local/lib/python3.10/dist-packages (from google-api-core!=2.0.*,!=2.1.*,!=2.2.*,!=2.3.0,<3.0.0.dev0,>=1.31.5->google-api-python-client>=1.12.1->earthengine-api) (3.20.3)\n",
            "Requirement already satisfied: proto-plus<2.0.0dev,>=1.22.3 in /usr/local/lib/python3.10/dist-packages (from google-api-core!=2.0.*,!=2.1.*,!=2.2.*,!=2.3.0,<3.0.0.dev0,>=1.31.5->google-api-python-client>=1.12.1->earthengine-api) (1.24.0)\n",
            "Requirement already satisfied: google-crc32c<2.0dev,>=1.0 in /usr/local/lib/python3.10/dist-packages (from google-resumable-media>=2.3.2->google-cloud-storage->earthengine-api) (1.6.0)\n",
            "Requirement already satisfied: pyasn1<0.7.0,>=0.4.6 in /usr/local/lib/python3.10/dist-packages (from pyasn1-modules>=0.2.1->google-auth>=1.4.1->earthengine-api) (0.6.1)\n"
          ]
        }
      ],
      "source": [
        "pip install earthengine-api"
      ]
    },
    {
      "cell_type": "code",
      "execution_count": null,
      "metadata": {
        "id": "c89f659d-b83a-4a5a-9b6d-3d1d65c575a2"
      },
      "outputs": [],
      "source": [
        "import ee\n",
        "import os\n",
        "import time"
      ]
    },
    {
      "cell_type": "code",
      "execution_count": null,
      "metadata": {
        "colab": {
          "base_uri": "https://localhost:8080/"
        },
        "id": "8734b45a-c31b-4f51-828f-bbb4d95fd413",
        "outputId": "3c3a6867-eed5-475a-84f9-a1542b552f52"
      },
      "outputs": [
        {
          "output_type": "stream",
          "name": "stdout",
          "text": [
            "No Earth Engine credentials found.\n"
          ]
        }
      ],
      "source": [
        "# # Get the path to the credentials file\n",
        "credentials_path = os.path.expanduser(\"~/.config/earthengine/credentials\")\n",
        "\n",
        "# # Remove the credentials file if it exists\n",
        "if os.path.exists(credentials_path):\n",
        "     os.remove(credentials_path)\n",
        "     print(\"Earth Engine credentials removed. You are now unauthenticated.\")\n",
        "else:\n",
        "  print(\"No Earth Engine credentials found.\")"
      ]
    },
    {
      "cell_type": "code",
      "execution_count": null,
      "metadata": {
        "id": "c9297e28-768e-44ed-aff4-7c8504bd5335"
      },
      "outputs": [],
      "source": [
        "# Trigger the authentication flow. You only need to do this once.\n",
        "ee.Authenticate()\n",
        "\n",
        "# Initialize the library.\n",
        "ee.Initialize(project='ee-covercropproject')"
      ]
    },
    {
      "cell_type": "code",
      "execution_count": null,
      "metadata": {
        "id": "c87d2040-1bea-4df2-ad16-d65a8c5f9814"
      },
      "outputs": [],
      "source": [
        "# Define the FeatureCollection\n",
        "state_abb = 'MO'\n",
        "polygons = ee.FeatureCollection(f\"projects/ee-covercropproject/assets/CLU_{state_abb}\")\n",
        "#projects/ee-indianproject/assets/CLU_IL\n",
        "\n",
        "\n",
        "\n",
        "# Sort the FeatureCollection by a specific property before converting to a list\n",
        "sortedCollection = polygons.sort('ID')\n",
        "\n",
        "featureList = sortedCollection.toList(sortedCollection.size())\n",
        "#print(featureList)"
      ]
    },
    {
      "cell_type": "code",
      "execution_count": null,
      "metadata": {
        "id": "06429b1e-c38a-432f-9e94-95ee37620add",
        "colab": {
          "base_uri": "https://localhost:8080/"
        },
        "outputId": "71a84909-dd40-4717-f0a9-1d67fcacb631"
      },
      "outputs": [
        {
          "output_type": "stream",
          "name": "stdout",
          "text": [
            "467266\n"
          ]
        }
      ],
      "source": [
        "#print(sortedCollection.size())\n",
        "print(sortedCollection.size().getInfo())"
      ]
    },
    {
      "cell_type": "code",
      "execution_count": null,
      "metadata": {
        "id": "69f79b1b-2a92-4ebc-adcf-e2b1309c181e"
      },
      "outputs": [],
      "source": [
        "# Define a function to extract the relevant bits and create a mask\n",
        "def mask_clouds(image):\n",
        "    # Select the SR_CLOUD_QA band\n",
        "    cloud_qa = image.select('SR_CLOUD_QA')\n",
        "\n",
        "    # Define bitmasks for the relevant bits\n",
        "    cloud_bitmask = 1 << 1  # Bit 1 for high confidence cloud\n",
        "    shadow_bitmask = 1 << 3  # Bit 3 for high confidence cloud shadow\n",
        "\n",
        "    # Identify the pixels with clouds or cloud shadows\n",
        "    cloud_mask = cloud_qa.bitwiseAnd(cloud_bitmask).eq(0)\n",
        "    shadow_mask = cloud_qa.bitwiseAnd(shadow_bitmask).eq(0)\n",
        "\n",
        "    # Combine the masks\n",
        "    combined_mask = cloud_mask.And(shadow_mask)\n",
        "\n",
        "    # Apply the mask to the image\n",
        "    return image.updateMask(combined_mask)\n",
        "\n",
        "# Function to calculate various indices and add date\n",
        "def addNDVInDate(image):\n",
        "    ndvi = image.normalizedDifference(['SR_B4', 'SR_B3']).rename('NDVI')\n",
        "    tvi = image.expression(\n",
        "        '(pow((((B8-B4)/(B8+B4)) +(1/2)),(1/2)))*100', {\n",
        "            'B8': image.select('SR_B4'),\n",
        "            'B4': image.select('SR_B3')\n",
        "        }).rename('TVI')\n",
        "    evi = image.expression(\n",
        "        '2.5* ( (B8-B4)/ (B8+ 6*B4 - 7.5*B2 +1))', {\n",
        "            'B4': image.select('SR_B3'),\n",
        "            'B8': image.select('SR_B4'),\n",
        "            'B2': image.select('SR_B1')\n",
        "        }).rename('EVI')\n",
        "    satvi = image.expression(\n",
        "        '((B11-B4)/(B11+B4+1)) * (1+1) - (B12/2)', {\n",
        "            'B11': image.select('SR_B5'),\n",
        "            'B4': image.select('SR_B3'),\n",
        "            'B12': image.select('SR_B7')\n",
        "        }).rename('SATVI')\n",
        "    savi = image.expression(\n",
        "        '((B8-B4) + (1+0.5))/ (B8-B4+0.5)', {\n",
        "            'B4': image.select('SR_B3'),\n",
        "            'B8': image.select('SR_B4')\n",
        "        }).rename('SAVI')\n",
        "    msi = image.expression(\n",
        "        '(B11/B8)', {\n",
        "            'B11': image.select('SR_B5'),\n",
        "            'B8': image.select('SR_B4')\n",
        "        }).rename('MSI')\n",
        "    gndvi = image.normalizedDifference(['SR_B4', 'SR_B2']).rename('GNDVI')\n",
        "    grvi = image.normalizedDifference(['SR_B2', 'SR_B3']).rename('GRVI')\n",
        "    lswi = image.normalizedDifference(['SR_B4', 'SR_B5']).rename('LSWI')\n",
        "    msavi2 = image.expression(\n",
        "        '(2 * B5 + 1 - sqrt(pow((2 * B5 + 1), 2) - 8 * (B5 - B4)) ) / 2', {\n",
        "            'B5': image.select('SR_B4'),\n",
        "            'B4': image.select('SR_B3')\n",
        "        }).rename('MSAVI2')\n",
        "    wdvi = image.expression(\n",
        "        'B8- 0.5*B4', {\n",
        "            'B4': image.select('SR_B3'),\n",
        "            'B8': image.select('SR_B4')\n",
        "        }).rename('WDVI')\n",
        "    bi = image.expression(\n",
        "        'sqrt((B4*B4) +(B3*B3))/2', {\n",
        "            'B4': image.select('SR_B3'),\n",
        "            'B3': image.select('SR_B2')\n",
        "        }).rename('BI')\n",
        "    bi2 = image.expression(\n",
        "        'sqrt((B4*B4) +(B3*B3)+(B8*B8))/3', {\n",
        "            'B4': image.select('SR_B3'),\n",
        "            'B3': image.select('SR_B2'),\n",
        "            'B8': image.select('SR_B4')\n",
        "        }).rename('BI2')\n",
        "    ri = image.expression(\n",
        "        '(B4*B4)/(B3*B3*B3)', {\n",
        "            'B4': image.select('SR_B3'),\n",
        "            'B3': image.select('SR_B2')\n",
        "        }).rename('RI')\n",
        "    ci = image.normalizedDifference(['SR_B3', 'SR_B2']).rename('CI')\n",
        "    v = image.expression(\n",
        "        '(B8/B4)', {\n",
        "            'B8': image.select('SR_B4'),\n",
        "            'B4': image.select('SR_B3')\n",
        "        }).rename('V')\n",
        "    ndwi = image.normalizedDifference(['SR_B4', 'SR_B5']).rename('NDWI')\n",
        "    nbr = image.normalizedDifference(['SR_B4', 'SR_B7']).rename('NBR')\n",
        "\n",
        "    newBands = ee.Image([ndvi, tvi, evi, satvi, savi, msi, gndvi, grvi, lswi,\n",
        "                         msavi2, wdvi, bi, bi2, ri, ci, v, ndwi, nbr])\n",
        "    return image.addBands(newBands)\n",
        "\n",
        "# Function to reduce the regions and calculate statistics\n",
        "def reduceRegionsFunction(image):\n",
        "    stats = image.reduceRegions(\n",
        "        collection=subsetFC,\n",
        "        reducer=ee.Reducer.mean(),\n",
        "        scale=30\n",
        "    )\n",
        "    stats_filtered = stats.filter(ee.Filter.notNull(['NDVI']))\n",
        "    return stats_filtered.map(lambda feature: feature.set('date', image.get('system:time_start')).setGeometry(None))"
      ]
    },
    {
      "cell_type": "code",
      "execution_count": null,
      "metadata": {
        "id": "44253dce-96f8-496d-a348-6187aa9f7642"
      },
      "outputs": [],
      "source": [
        "# Iterate through the FeatureCollection in chunks\n",
        "#time.sleep(10800)\n",
        "stepsize=2000\n",
        "for i in range(0, sortedCollection.size().getInfo()+1, stepsize):\n",
        "    subset = featureList.slice(i, i+stepsize)\n",
        "    subsetFC = ee.FeatureCollection(subset)\n",
        "    convexHull = subsetFC.geometry().convexHull().buffer(50)\n",
        "\n",
        "    # Download NDVI data for each year\n",
        "    for yr in range(2015, 2025):\n",
        "        startDate = f'{yr-1}-05-15'\n",
        "        endDate = f'{yr}-5-15'\n",
        "        fileName = f'NDVI_{yr-1}_{i}'\n",
        "\n",
        "        landsat = (ee.ImageCollection(\"LANDSAT/LE07/C02/T1_L2\")\n",
        "                 .filterBounds(convexHull)\n",
        "                 .filterDate(startDate, endDate)\n",
        "                 .map(mask_clouds)\n",
        "                 .map(addNDVInDate))\n",
        "\n",
        "        reduced = landsat.map(reduceRegionsFunction).flatten()\n",
        "        # Remove geometry before exporting\n",
        "        reduced_no_geom = reduced.map(lambda feature: feature.setGeometry(None))\n",
        "\n",
        "        # Export the data to Google Drive\n",
        "        task = ee.batch.Export.table.toDrive(\n",
        "            collection=reduced_no_geom,\n",
        "            description=fileName,\n",
        "            folder=f'Landsat7_CLU_{state_abb}_sorted',\n",
        "            fileFormat='CSV'\n",
        "        )\n",
        "        task.start()"
      ]
    }
  ]
}